{
 "cells": [
  {
   "cell_type": "code",
   "execution_count": 109,
   "metadata": {},
   "outputs": [
    {
     "name": "stderr",
     "output_type": "stream",
     "text": [
      "[nltk_data] Downloading package wordnet to\n",
      "[nltk_data]     C:\\Users\\justf\\AppData\\Roaming\\nltk_data...\n",
      "[nltk_data]   Package wordnet is already up-to-date!\n",
      "[nltk_data] Downloading package punkt to\n",
      "[nltk_data]     C:\\Users\\justf\\AppData\\Roaming\\nltk_data...\n",
      "[nltk_data]   Package punkt is already up-to-date!\n"
     ]
    }
   ],
   "source": [
    "import pandas as pd\n",
    "import numpy as np\n",
    "import re\n",
    "from collections import Counter\n",
    "import nltk\n",
    "from textblob import TextBlob\n",
    "nltk.download('wordnet')\n",
    "nltk.download('punkt')\n",
    "from nltk.stem import WordNetLemmatizer "
   ]
  },
  {
   "cell_type": "markdown",
   "metadata": {},
   "source": [
    "## 2."
   ]
  },
  {
   "cell_type": "code",
   "execution_count": 132,
   "metadata": {},
   "outputs": [],
   "source": [
    "data = pd.read_csv(\"tweets.csv\", encoding='utf-8')\n",
    "lemma_array = []\n",
    "lemmatizer = WordNetLemmatizer()\n",
    "polarity = []\n",
    "lem_polarity = []\n",
    "subjectivity = []\n",
    "lem_subjetivity = []"
   ]
  },
  {
   "cell_type": "markdown",
   "metadata": {},
   "source": [
    "## 3."
   ]
  },
  {
   "cell_type": "code",
   "execution_count": 133,
   "metadata": {},
   "outputs": [],
   "source": [
    "new_data = data.replace(to_replace='[^\\sa-zA-Z0-9]@', value = \"\", regex=True)"
   ]
  },
  {
   "cell_type": "code",
   "execution_count": 134,
   "metadata": {},
   "outputs": [],
   "source": [
    "final_data = new_data.replace(to_replace='RT', value=\"\", regex=True)"
   ]
  },
  {
   "cell_type": "code",
   "execution_count": 135,
   "metadata": {},
   "outputs": [],
   "source": [
    "final_data.rename(columns={'screenName':'Handler'}, inplace=True)\n",
    "final_data['Handler'] = final_data['Handler'].replace(to_replace='[^\\sa-zA-Z0-9]', value='', regex=True)"
   ]
  },
  {
   "cell_type": "code",
   "execution_count": 136,
   "metadata": {},
   "outputs": [],
   "source": [
    "final_data['statusSource'] = final_data['statusSource'].replace('<.*?>', value='', regex=True)"
   ]
  },
  {
   "cell_type": "code",
   "execution_count": 137,
   "metadata": {},
   "outputs": [],
   "source": [
    "final_data.rename(columns={'statusSource':'Source'}, inplace=True)\n",
    "final_data['Handler'] = '@' + final_data['Handler'].astype(str)"
   ]
  },
  {
   "cell_type": "markdown",
   "metadata": {},
   "source": [
    "## 5."
   ]
  },
  {
   "cell_type": "code",
   "execution_count": 141,
   "metadata": {},
   "outputs": [],
   "source": [
    "def ligma(lemma, lemma_array):\n",
    "    word_list = nltk.word_tokenize(lemma)\n",
    "    lemmatized_output = ' '.join([lemmatizer.lemmatize(w) for w in word_list])\n",
    "    lemma_array.append(lemmatized_output)\n",
    "    "
   ]
  },
  {
   "cell_type": "code",
   "execution_count": 142,
   "metadata": {},
   "outputs": [],
   "source": [
    "for x in final_data['text']:\n",
    "    ligma(x, lemma_array)\n",
    "final_data['lem_text'] = lemma_array"
   ]
  },
  {
   "cell_type": "code",
   "execution_count": 144,
   "metadata": {},
   "outputs": [],
   "source": [
    "final_data = final_data.sort_values(by=['Handler'])"
   ]
  },
  {
   "cell_type": "markdown",
   "metadata": {},
   "source": [
    "## 4."
   ]
  },
  {
   "cell_type": "code",
   "execution_count": 145,
   "metadata": {},
   "outputs": [],
   "source": [
    "sub_data = pd.DataFrame({'Handler':final_data['Handler'], 'retweetCount':final_data['retweetCount'], 'Source':final_data['Source'], 'Text':final_data['text'], 'Lem_text':final_data['lem_text']})"
   ]
  },
  {
   "cell_type": "code",
   "execution_count": 146,
   "metadata": {},
   "outputs": [
    {
     "data": {
      "text/html": [
       "<div>\n",
       "<style scoped>\n",
       "    .dataframe tbody tr th:only-of-type {\n",
       "        vertical-align: middle;\n",
       "    }\n",
       "\n",
       "    .dataframe tbody tr th {\n",
       "        vertical-align: top;\n",
       "    }\n",
       "\n",
       "    .dataframe thead th {\n",
       "        text-align: right;\n",
       "    }\n",
       "</style>\n",
       "<table border=\"1\" class=\"dataframe\">\n",
       "  <thead>\n",
       "    <tr style=\"text-align: right;\">\n",
       "      <th></th>\n",
       "      <th>Handler</th>\n",
       "      <th>retweetCount</th>\n",
       "      <th>Source</th>\n",
       "      <th>Text</th>\n",
       "      <th>Lem_text</th>\n",
       "    </tr>\n",
       "  </thead>\n",
       "  <tbody>\n",
       "    <tr>\n",
       "      <td>182</td>\n",
       "      <td>@0123Steven77</td>\n",
       "      <td>39</td>\n",
       "      <td>Twitter for Android</td>\n",
       "      <td>@PapaSmithy: Very interesting to see how Grif...</td>\n",
       "      <td>@ PapaSmithy : Very interesting to see how Gri...</td>\n",
       "    </tr>\n",
       "    <tr>\n",
       "      <td>602</td>\n",
       "      <td>@0123Steven77</td>\n",
       "      <td>134</td>\n",
       "      <td>Twitter for Android</td>\n",
       "      <td>@lolesports: The 2019 World Championship Quar...</td>\n",
       "      <td>@ lolesports : The 2019 World Championship Qua...</td>\n",
       "    </tr>\n",
       "    <tr>\n",
       "      <td>603</td>\n",
       "      <td>@0123Steven77</td>\n",
       "      <td>118</td>\n",
       "      <td>Twitter for Android</td>\n",
       "      <td>@lolesports: No perfect predictions for the f...</td>\n",
       "      <td>@ lolesports : No perfect prediction for the f...</td>\n",
       "    </tr>\n",
       "    <tr>\n",
       "      <td>9003</td>\n",
       "      <td>@0Trashcan2</td>\n",
       "      <td>0</td>\n",
       "      <td>Twitter for Android</td>\n",
       "      <td>Doesn't seem like Fnatic have any sort of game...</td>\n",
       "      <td>Does n't seem like Fnatic have any sort of gam...</td>\n",
       "    </tr>\n",
       "    <tr>\n",
       "      <td>7795</td>\n",
       "      <td>@0eixa</td>\n",
       "      <td>145</td>\n",
       "      <td>Twitter for Android</td>\n",
       "      <td>@lolesports: The Garen hover from @RekklesLoL...</td>\n",
       "      <td>@ lolesports : The Garen hover from @ RekklesL...</td>\n",
       "    </tr>\n",
       "    <tr>\n",
       "      <td>...</td>\n",
       "      <td>...</td>\n",
       "      <td>...</td>\n",
       "      <td>...</td>\n",
       "      <td>...</td>\n",
       "      <td>...</td>\n",
       "    </tr>\n",
       "    <tr>\n",
       "      <td>5192</td>\n",
       "      <td>@zynerva</td>\n",
       "      <td>126</td>\n",
       "      <td>Twitter for Android</td>\n",
       "      <td>@aliciaouteiralf: Fnatic: pierde 2 partidos i...</td>\n",
       "      <td>@ aliciaouteiralf : Fnatic : pierde 2 partidos...</td>\n",
       "    </tr>\n",
       "    <tr>\n",
       "      <td>4911</td>\n",
       "      <td>@zyranugu</td>\n",
       "      <td>15</td>\n",
       "      <td>Twitter Web App</td>\n",
       "      <td>@HajinsunTV: FPX Tian just said during the pr...</td>\n",
       "      <td>@ HajinsunTV : FPX Tian just said during the p...</td>\n",
       "    </tr>\n",
       "    <tr>\n",
       "      <td>6271</td>\n",
       "      <td>@zyrcadia</td>\n",
       "      <td>0</td>\n",
       "      <td>Twitter Web App</td>\n",
       "      <td>@FNATIC ggs guys. y'all tried. was a rough one...</td>\n",
       "      <td>@ FNATIC ggs guy . y'all tried . wa a rough on...</td>\n",
       "    </tr>\n",
       "    <tr>\n",
       "      <td>808</td>\n",
       "      <td>@zzzzmoore27</td>\n",
       "      <td>20</td>\n",
       "      <td>Twitter Web App</td>\n",
       "      <td>@HextechThinker: Hey Fnatic, what have we lea...</td>\n",
       "      <td>@ HextechThinker : Hey Fnatic , what have we l...</td>\n",
       "    </tr>\n",
       "    <tr>\n",
       "      <td>3554</td>\n",
       "      <td>@zzzzmoore27</td>\n",
       "      <td>3</td>\n",
       "      <td>Twitter Web App</td>\n",
       "      <td>@Elynescence_: DID QIYANA JUST TAKE 90% HEALT...</td>\n",
       "      <td>@ Elynescence_ : DID QIYANA JUST TAKE 90 % HEA...</td>\n",
       "    </tr>\n",
       "  </tbody>\n",
       "</table>\n",
       "<p>10000 rows × 5 columns</p>\n",
       "</div>"
      ],
      "text/plain": [
       "            Handler  retweetCount               Source  \\\n",
       "182   @0123Steven77            39  Twitter for Android   \n",
       "602   @0123Steven77           134  Twitter for Android   \n",
       "603   @0123Steven77           118  Twitter for Android   \n",
       "9003    @0Trashcan2             0  Twitter for Android   \n",
       "7795         @0eixa           145  Twitter for Android   \n",
       "...             ...           ...                  ...   \n",
       "5192       @zynerva           126  Twitter for Android   \n",
       "4911      @zyranugu            15      Twitter Web App   \n",
       "6271      @zyrcadia             0      Twitter Web App   \n",
       "808    @zzzzmoore27            20      Twitter Web App   \n",
       "3554   @zzzzmoore27             3      Twitter Web App   \n",
       "\n",
       "                                                   Text  \\\n",
       "182    @PapaSmithy: Very interesting to see how Grif...   \n",
       "602    @lolesports: The 2019 World Championship Quar...   \n",
       "603    @lolesports: No perfect predictions for the f...   \n",
       "9003  Doesn't seem like Fnatic have any sort of game...   \n",
       "7795   @lolesports: The Garen hover from @RekklesLoL...   \n",
       "...                                                 ...   \n",
       "5192   @aliciaouteiralf: Fnatic: pierde 2 partidos i...   \n",
       "4911   @HajinsunTV: FPX Tian just said during the pr...   \n",
       "6271  @FNATIC ggs guys. y'all tried. was a rough one...   \n",
       "808    @HextechThinker: Hey Fnatic, what have we lea...   \n",
       "3554   @Elynescence_: DID QIYANA JUST TAKE 90% HEALT...   \n",
       "\n",
       "                                               Lem_text  \n",
       "182   @ PapaSmithy : Very interesting to see how Gri...  \n",
       "602   @ lolesports : The 2019 World Championship Qua...  \n",
       "603   @ lolesports : No perfect prediction for the f...  \n",
       "9003  Does n't seem like Fnatic have any sort of gam...  \n",
       "7795  @ lolesports : The Garen hover from @ RekklesL...  \n",
       "...                                                 ...  \n",
       "5192  @ aliciaouteiralf : Fnatic : pierde 2 partidos...  \n",
       "4911  @ HajinsunTV : FPX Tian just said during the p...  \n",
       "6271  @ FNATIC ggs guy . y'all tried . wa a rough on...  \n",
       "808   @ HextechThinker : Hey Fnatic , what have we l...  \n",
       "3554  @ Elynescence_ : DID QIYANA JUST TAKE 90 % HEA...  \n",
       "\n",
       "[10000 rows x 5 columns]"
      ]
     },
     "execution_count": 146,
     "metadata": {},
     "output_type": "execute_result"
    }
   ],
   "source": [
    "sub_data"
   ]
  },
  {
   "cell_type": "markdown",
   "metadata": {},
   "source": [
    "## 6."
   ]
  },
  {
   "cell_type": "code",
   "execution_count": 147,
   "metadata": {},
   "outputs": [],
   "source": [
    "for tw in sub_data['Text']:\n",
    "  tw = TextBlob(tw)\n",
    "  ann = tw.sentiment\n",
    "  polarity.append(ann[0])\n",
    "  subjectivity.append(ann[1])"
   ]
  },
  {
   "cell_type": "code",
   "execution_count": 148,
   "metadata": {},
   "outputs": [],
   "source": [
    "for tw in sub_data['Lem_text']:\n",
    "  tw = TextBlob(tw)\n",
    "  ann = tw.sentiment\n",
    "  lem_polarity.append(ann[0])\n",
    "  lem_subjetivity.append(ann[1])"
   ]
  },
  {
   "cell_type": "code",
   "execution_count": 149,
   "metadata": {},
   "outputs": [],
   "source": [
    "sub_data['Polarity'] = polarity\n",
    "sub_data['Subjectivity'] = subjectivity\n",
    "sub_data['Lem_Polarity'] = lem_polarity\n",
    "sub_data['Lem_Subjectivity'] = lem_subjetivity"
   ]
  },
  {
   "cell_type": "code",
   "execution_count": 150,
   "metadata": {},
   "outputs": [
    {
     "data": {
      "text/html": [
       "<div>\n",
       "<style scoped>\n",
       "    .dataframe tbody tr th:only-of-type {\n",
       "        vertical-align: middle;\n",
       "    }\n",
       "\n",
       "    .dataframe tbody tr th {\n",
       "        vertical-align: top;\n",
       "    }\n",
       "\n",
       "    .dataframe thead th {\n",
       "        text-align: right;\n",
       "    }\n",
       "</style>\n",
       "<table border=\"1\" class=\"dataframe\">\n",
       "  <thead>\n",
       "    <tr style=\"text-align: right;\">\n",
       "      <th></th>\n",
       "      <th>Handler</th>\n",
       "      <th>retweetCount</th>\n",
       "      <th>Source</th>\n",
       "      <th>Text</th>\n",
       "      <th>Lem_text</th>\n",
       "      <th>Polarity</th>\n",
       "      <th>Subjectivity</th>\n",
       "      <th>Lem_Polarity</th>\n",
       "      <th>Lem_Subjectivity</th>\n",
       "    </tr>\n",
       "  </thead>\n",
       "  <tbody>\n",
       "    <tr>\n",
       "      <td>182</td>\n",
       "      <td>@0123Steven77</td>\n",
       "      <td>39</td>\n",
       "      <td>Twitter for Android</td>\n",
       "      <td>@PapaSmithy: Very interesting to see how Grif...</td>\n",
       "      <td>@ PapaSmithy : Very interesting to see how Gri...</td>\n",
       "      <td>0.375000</td>\n",
       "      <td>0.516667</td>\n",
       "      <td>0.375000</td>\n",
       "      <td>0.516667</td>\n",
       "    </tr>\n",
       "    <tr>\n",
       "      <td>602</td>\n",
       "      <td>@0123Steven77</td>\n",
       "      <td>134</td>\n",
       "      <td>Twitter for Android</td>\n",
       "      <td>@lolesports: The 2019 World Championship Quar...</td>\n",
       "      <td>@ lolesports : The 2019 World Championship Qua...</td>\n",
       "      <td>0.000000</td>\n",
       "      <td>0.000000</td>\n",
       "      <td>0.000000</td>\n",
       "      <td>0.000000</td>\n",
       "    </tr>\n",
       "    <tr>\n",
       "      <td>603</td>\n",
       "      <td>@0123Steven77</td>\n",
       "      <td>118</td>\n",
       "      <td>Twitter for Android</td>\n",
       "      <td>@lolesports: No perfect predictions for the f...</td>\n",
       "      <td>@ lolesports : No perfect prediction for the f...</td>\n",
       "      <td>-0.125000</td>\n",
       "      <td>0.666667</td>\n",
       "      <td>-0.125000</td>\n",
       "      <td>0.666667</td>\n",
       "    </tr>\n",
       "    <tr>\n",
       "      <td>9003</td>\n",
       "      <td>@0Trashcan2</td>\n",
       "      <td>0</td>\n",
       "      <td>Twitter for Android</td>\n",
       "      <td>Doesn't seem like Fnatic have any sort of game...</td>\n",
       "      <td>Does n't seem like Fnatic have any sort of gam...</td>\n",
       "      <td>0.000000</td>\n",
       "      <td>0.000000</td>\n",
       "      <td>0.000000</td>\n",
       "      <td>0.000000</td>\n",
       "    </tr>\n",
       "    <tr>\n",
       "      <td>7795</td>\n",
       "      <td>@0eixa</td>\n",
       "      <td>145</td>\n",
       "      <td>Twitter for Android</td>\n",
       "      <td>@lolesports: The Garen hover from @RekklesLoL...</td>\n",
       "      <td>@ lolesports : The Garen hover from @ RekklesL...</td>\n",
       "      <td>0.000000</td>\n",
       "      <td>0.000000</td>\n",
       "      <td>0.000000</td>\n",
       "      <td>0.000000</td>\n",
       "    </tr>\n",
       "    <tr>\n",
       "      <td>...</td>\n",
       "      <td>...</td>\n",
       "      <td>...</td>\n",
       "      <td>...</td>\n",
       "      <td>...</td>\n",
       "      <td>...</td>\n",
       "      <td>...</td>\n",
       "      <td>...</td>\n",
       "      <td>...</td>\n",
       "      <td>...</td>\n",
       "    </tr>\n",
       "    <tr>\n",
       "      <td>5192</td>\n",
       "      <td>@zynerva</td>\n",
       "      <td>126</td>\n",
       "      <td>Twitter for Android</td>\n",
       "      <td>@aliciaouteiralf: Fnatic: pierde 2 partidos i...</td>\n",
       "      <td>@ aliciaouteiralf : Fnatic : pierde 2 partidos...</td>\n",
       "      <td>0.000000</td>\n",
       "      <td>0.000000</td>\n",
       "      <td>0.000000</td>\n",
       "      <td>0.000000</td>\n",
       "    </tr>\n",
       "    <tr>\n",
       "      <td>4911</td>\n",
       "      <td>@zyranugu</td>\n",
       "      <td>15</td>\n",
       "      <td>Twitter Web App</td>\n",
       "      <td>@HajinsunTV: FPX Tian just said during the pr...</td>\n",
       "      <td>@ HajinsunTV : FPX Tian just said during the p...</td>\n",
       "      <td>0.343750</td>\n",
       "      <td>0.493750</td>\n",
       "      <td>0.343750</td>\n",
       "      <td>0.493750</td>\n",
       "    </tr>\n",
       "    <tr>\n",
       "      <td>6271</td>\n",
       "      <td>@zyrcadia</td>\n",
       "      <td>0</td>\n",
       "      <td>Twitter Web App</td>\n",
       "      <td>@FNATIC ggs guys. y'all tried. was a rough one...</td>\n",
       "      <td>@ FNATIC ggs guy . y'all tried . wa a rough on...</td>\n",
       "      <td>-0.216667</td>\n",
       "      <td>0.450000</td>\n",
       "      <td>-0.216667</td>\n",
       "      <td>0.450000</td>\n",
       "    </tr>\n",
       "    <tr>\n",
       "      <td>808</td>\n",
       "      <td>@zzzzmoore27</td>\n",
       "      <td>20</td>\n",
       "      <td>Twitter Web App</td>\n",
       "      <td>@HextechThinker: Hey Fnatic, what have we lea...</td>\n",
       "      <td>@ HextechThinker : Hey Fnatic , what have we l...</td>\n",
       "      <td>0.100000</td>\n",
       "      <td>1.000000</td>\n",
       "      <td>0.100000</td>\n",
       "      <td>1.000000</td>\n",
       "    </tr>\n",
       "    <tr>\n",
       "      <td>3554</td>\n",
       "      <td>@zzzzmoore27</td>\n",
       "      <td>3</td>\n",
       "      <td>Twitter Web App</td>\n",
       "      <td>@Elynescence_: DID QIYANA JUST TAKE 90% HEALT...</td>\n",
       "      <td>@ Elynescence_ : DID QIYANA JUST TAKE 90 % HEA...</td>\n",
       "      <td>-0.250000</td>\n",
       "      <td>0.500000</td>\n",
       "      <td>-0.250000</td>\n",
       "      <td>0.500000</td>\n",
       "    </tr>\n",
       "  </tbody>\n",
       "</table>\n",
       "<p>10000 rows × 9 columns</p>\n",
       "</div>"
      ],
      "text/plain": [
       "            Handler  retweetCount               Source  \\\n",
       "182   @0123Steven77            39  Twitter for Android   \n",
       "602   @0123Steven77           134  Twitter for Android   \n",
       "603   @0123Steven77           118  Twitter for Android   \n",
       "9003    @0Trashcan2             0  Twitter for Android   \n",
       "7795         @0eixa           145  Twitter for Android   \n",
       "...             ...           ...                  ...   \n",
       "5192       @zynerva           126  Twitter for Android   \n",
       "4911      @zyranugu            15      Twitter Web App   \n",
       "6271      @zyrcadia             0      Twitter Web App   \n",
       "808    @zzzzmoore27            20      Twitter Web App   \n",
       "3554   @zzzzmoore27             3      Twitter Web App   \n",
       "\n",
       "                                                   Text  \\\n",
       "182    @PapaSmithy: Very interesting to see how Grif...   \n",
       "602    @lolesports: The 2019 World Championship Quar...   \n",
       "603    @lolesports: No perfect predictions for the f...   \n",
       "9003  Doesn't seem like Fnatic have any sort of game...   \n",
       "7795   @lolesports: The Garen hover from @RekklesLoL...   \n",
       "...                                                 ...   \n",
       "5192   @aliciaouteiralf: Fnatic: pierde 2 partidos i...   \n",
       "4911   @HajinsunTV: FPX Tian just said during the pr...   \n",
       "6271  @FNATIC ggs guys. y'all tried. was a rough one...   \n",
       "808    @HextechThinker: Hey Fnatic, what have we lea...   \n",
       "3554   @Elynescence_: DID QIYANA JUST TAKE 90% HEALT...   \n",
       "\n",
       "                                               Lem_text  Polarity  \\\n",
       "182   @ PapaSmithy : Very interesting to see how Gri...  0.375000   \n",
       "602   @ lolesports : The 2019 World Championship Qua...  0.000000   \n",
       "603   @ lolesports : No perfect prediction for the f... -0.125000   \n",
       "9003  Does n't seem like Fnatic have any sort of gam...  0.000000   \n",
       "7795  @ lolesports : The Garen hover from @ RekklesL...  0.000000   \n",
       "...                                                 ...       ...   \n",
       "5192  @ aliciaouteiralf : Fnatic : pierde 2 partidos...  0.000000   \n",
       "4911  @ HajinsunTV : FPX Tian just said during the p...  0.343750   \n",
       "6271  @ FNATIC ggs guy . y'all tried . wa a rough on... -0.216667   \n",
       "808   @ HextechThinker : Hey Fnatic , what have we l...  0.100000   \n",
       "3554  @ Elynescence_ : DID QIYANA JUST TAKE 90 % HEA... -0.250000   \n",
       "\n",
       "      Subjectivity  Lem_Polarity  Lem_Subjectivity  \n",
       "182       0.516667      0.375000          0.516667  \n",
       "602       0.000000      0.000000          0.000000  \n",
       "603       0.666667     -0.125000          0.666667  \n",
       "9003      0.000000      0.000000          0.000000  \n",
       "7795      0.000000      0.000000          0.000000  \n",
       "...            ...           ...               ...  \n",
       "5192      0.000000      0.000000          0.000000  \n",
       "4911      0.493750      0.343750          0.493750  \n",
       "6271      0.450000     -0.216667          0.450000  \n",
       "808       1.000000      0.100000          1.000000  \n",
       "3554      0.500000     -0.250000          0.500000  \n",
       "\n",
       "[10000 rows x 9 columns]"
      ]
     },
     "execution_count": 150,
     "metadata": {},
     "output_type": "execute_result"
    }
   ],
   "source": [
    "sub_data"
   ]
  },
  {
   "cell_type": "markdown",
   "metadata": {},
   "source": [
    "## 7."
   ]
  },
  {
   "cell_type": "code",
   "execution_count": 151,
   "metadata": {},
   "outputs": [
    {
     "name": "stdout",
     "output_type": "stream",
     "text": [
      "0.07441329728084317\n",
      "0.27430918216736944\n",
      "0.07420374701629287\n",
      "0.27494183659858634\n"
     ]
    }
   ],
   "source": [
    "rows = ['Polarity', 'Subjectivity', 'Lem_Polarity', 'Lem_Subjectivity']\n",
    "\n",
    "for i in rows:\n",
    "    print(sub_data[i].mean())"
   ]
  },
  {
   "cell_type": "markdown",
   "metadata": {},
   "source": [
    "## 8."
   ]
  },
  {
   "cell_type": "markdown",
   "metadata": {},
   "source": [
    "#### La lematización afecta muy poco la evalución de polaridad y subjetividad"
   ]
  },
  {
   "cell_type": "code",
   "execution_count": 153,
   "metadata": {},
   "outputs": [
    {
     "data": {
      "text/plain": [
       "Twitter for Android    5063\n",
       "Twitter Web App        2539\n",
       "Twitter for iPhone     1862\n",
       "TweetDeck               247\n",
       "Twitter Web Client      127\n",
       "Name: Source, dtype: int64"
      ]
     },
     "execution_count": 153,
     "metadata": {},
     "output_type": "execute_result"
    }
   ],
   "source": [
    "sub_data['Source'].value_counts().head()"
   ]
  },
  {
   "cell_type": "markdown",
   "metadata": {},
   "source": [
    "## 9."
   ]
  },
  {
   "cell_type": "markdown",
   "metadata": {},
   "source": [
    "#### La mayoría de tweets se originan de Twitter for Android"
   ]
  },
  {
   "cell_type": "code",
   "execution_count": 164,
   "metadata": {},
   "outputs": [],
   "source": [
    "sub_data.sort_values(by=['retweetCount'], inplace=True, ascending=False)"
   ]
  },
  {
   "cell_type": "code",
   "execution_count": 163,
   "metadata": {},
   "outputs": [
    {
     "data": {
      "text/html": [
       "<div>\n",
       "<style scoped>\n",
       "    .dataframe tbody tr th:only-of-type {\n",
       "        vertical-align: middle;\n",
       "    }\n",
       "\n",
       "    .dataframe tbody tr th {\n",
       "        vertical-align: top;\n",
       "    }\n",
       "\n",
       "    .dataframe thead th {\n",
       "        text-align: right;\n",
       "    }\n",
       "</style>\n",
       "<table border=\"1\" class=\"dataframe\">\n",
       "  <thead>\n",
       "    <tr style=\"text-align: right;\">\n",
       "      <th></th>\n",
       "      <th>Handler</th>\n",
       "      <th>retweetCount</th>\n",
       "      <th>Source</th>\n",
       "      <th>Text</th>\n",
       "      <th>Lem_text</th>\n",
       "      <th>Polarity</th>\n",
       "      <th>Subjectivity</th>\n",
       "      <th>Lem_Polarity</th>\n",
       "      <th>Lem_Subjectivity</th>\n",
       "    </tr>\n",
       "  </thead>\n",
       "  <tbody>\n",
       "    <tr>\n",
       "      <td>9598</td>\n",
       "      <td>@leonakali</td>\n",
       "      <td>4470</td>\n",
       "      <td>Twitter for iPhone</td>\n",
       "      <td>@OGTVLoL: G2, FNATIC et Splyce durant ces #Wo...</td>\n",
       "      <td>@ OGTVLoL : G2 , FNATIC et Splyce durant ce # ...</td>\n",
       "      <td>0.0</td>\n",
       "      <td>0.0</td>\n",
       "      <td>0.0</td>\n",
       "      <td>0.0</td>\n",
       "    </tr>\n",
       "    <tr>\n",
       "      <td>3922</td>\n",
       "      <td>@isuda74zem10</td>\n",
       "      <td>3542</td>\n",
       "      <td>Twitter for Android</td>\n",
       "      <td>@T1LoL: Never intended, but here we go - good...</td>\n",
       "      <td>@ T1LoL : Never intended , but here we go - go...</td>\n",
       "      <td>0.7</td>\n",
       "      <td>0.6</td>\n",
       "      <td>0.7</td>\n",
       "      <td>0.6</td>\n",
       "    </tr>\n",
       "    <tr>\n",
       "      <td>3890</td>\n",
       "      <td>@kledis25323538</td>\n",
       "      <td>3139</td>\n",
       "      <td>Twitter for Android</td>\n",
       "      <td>@G2esports: Gear up for Worlds! \\r\\n\\r\\nTo ce...</td>\n",
       "      <td>@ G2esports : Gear up for Worlds ! To celebrat...</td>\n",
       "      <td>0.0</td>\n",
       "      <td>0.0</td>\n",
       "      <td>0.0</td>\n",
       "      <td>0.0</td>\n",
       "    </tr>\n",
       "    <tr>\n",
       "      <td>1552</td>\n",
       "      <td>@zeynhrj</td>\n",
       "      <td>2797</td>\n",
       "      <td>Twitter for iPhone</td>\n",
       "      <td>@Cloud9: G2 is looking really good\\r\\n\\r\\n#Wo...</td>\n",
       "      <td>@ Cloud9 : G2 is looking really good # Worlds2...</td>\n",
       "      <td>0.7</td>\n",
       "      <td>0.6</td>\n",
       "      <td>0.7</td>\n",
       "      <td>0.6</td>\n",
       "    </tr>\n",
       "    <tr>\n",
       "      <td>2314</td>\n",
       "      <td>@Buji19</td>\n",
       "      <td>2756</td>\n",
       "      <td>Twitter Web App</td>\n",
       "      <td>@OGTVLoL: Team Liquid, Clutch Gaming &amp;amp; Cl...</td>\n",
       "      <td>@ OGTVLoL : Team Liquid , Clutch Gaming &amp; amp ...</td>\n",
       "      <td>0.0</td>\n",
       "      <td>0.0</td>\n",
       "      <td>0.0</td>\n",
       "      <td>0.0</td>\n",
       "    </tr>\n",
       "  </tbody>\n",
       "</table>\n",
       "</div>"
      ],
      "text/plain": [
       "              Handler  retweetCount               Source  \\\n",
       "9598       @leonakali          4470   Twitter for iPhone   \n",
       "3922    @isuda74zem10          3542  Twitter for Android   \n",
       "3890  @kledis25323538          3139  Twitter for Android   \n",
       "1552         @zeynhrj          2797   Twitter for iPhone   \n",
       "2314          @Buji19          2756      Twitter Web App   \n",
       "\n",
       "                                                   Text  \\\n",
       "9598   @OGTVLoL: G2, FNATIC et Splyce durant ces #Wo...   \n",
       "3922   @T1LoL: Never intended, but here we go - good...   \n",
       "3890   @G2esports: Gear up for Worlds! \\r\\n\\r\\nTo ce...   \n",
       "1552   @Cloud9: G2 is looking really good\\r\\n\\r\\n#Wo...   \n",
       "2314   @OGTVLoL: Team Liquid, Clutch Gaming &amp; Cl...   \n",
       "\n",
       "                                               Lem_text  Polarity  \\\n",
       "9598  @ OGTVLoL : G2 , FNATIC et Splyce durant ce # ...       0.0   \n",
       "3922  @ T1LoL : Never intended , but here we go - go...       0.7   \n",
       "3890  @ G2esports : Gear up for Worlds ! To celebrat...       0.0   \n",
       "1552  @ Cloud9 : G2 is looking really good # Worlds2...       0.7   \n",
       "2314  @ OGTVLoL : Team Liquid , Clutch Gaming & amp ...       0.0   \n",
       "\n",
       "      Subjectivity  Lem_Polarity  Lem_Subjectivity  \n",
       "9598           0.0           0.0               0.0  \n",
       "3922           0.6           0.7               0.6  \n",
       "3890           0.0           0.0               0.0  \n",
       "1552           0.6           0.7               0.6  \n",
       "2314           0.0           0.0               0.0  "
      ]
     },
     "execution_count": 163,
     "metadata": {},
     "output_type": "execute_result"
    }
   ],
   "source": [
    "sub_data.head()"
   ]
  },
  {
   "cell_type": "markdown",
   "metadata": {},
   "source": [
    "#### El tweet más popular del corpus es de @leonakali"
   ]
  },
  {
   "cell_type": "code",
   "execution_count": null,
   "metadata": {},
   "outputs": [],
   "source": []
  }
 ],
 "metadata": {
  "kernelspec": {
   "display_name": "Python 3",
   "language": "python",
   "name": "python3"
  },
  "language_info": {
   "codemirror_mode": {
    "name": "ipython",
    "version": 3
   },
   "file_extension": ".py",
   "mimetype": "text/x-python",
   "name": "python",
   "nbconvert_exporter": "python",
   "pygments_lexer": "ipython3",
   "version": "3.7.4"
  }
 },
 "nbformat": 4,
 "nbformat_minor": 2
}
