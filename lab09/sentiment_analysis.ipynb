{
 "cells": [
  {
   "cell_type": "code",
   "execution_count": 1,
   "metadata": {
    "colab": {},
    "colab_type": "code",
    "id": "buwH9XSlZoLV"
   },
   "outputs": [
    {
     "name": "stderr",
     "output_type": "stream",
     "text": [
      "[nltk_data] Downloading package wordnet to\n",
      "[nltk_data]     C:\\Users\\justf\\AppData\\Roaming\\nltk_data...\n",
      "[nltk_data]   Package wordnet is already up-to-date!\n",
      "[nltk_data] Downloading package punkt to\n",
      "[nltk_data]     C:\\Users\\justf\\AppData\\Roaming\\nltk_data...\n",
      "[nltk_data]   Package punkt is already up-to-date!\n"
     ]
    }
   ],
   "source": [
    "import pandas as pd\n",
    "import numpy as np\n",
    "import re\n",
    "from collections import Counter\n",
    "from textblob import TextBlob\n",
    "import nltk\n",
    "nltk.download('wordnet')\n",
    "nltk.download('punkt')\n",
    "from nltk.stem import WordNetLemmatizer "
   ]
  },
  {
   "cell_type": "code",
   "execution_count": 7,
   "metadata": {},
   "outputs": [],
   "source": [
    "data = pd.read_csv(\"DWTS.csv\",sep=',',encoding = \"utf-8\")"
   ]
  },
  {
   "cell_type": "code",
   "execution_count": 8,
   "metadata": {
    "colab": {
     "base_uri": "https://localhost:8080/",
     "height": 195
    },
    "colab_type": "code",
    "id": "mq6x3I8CZzuY",
    "outputId": "3516dc81-a0f7-4c1c-e1b8-b1d8d5490e6d"
   },
   "outputs": [
    {
     "data": {
      "text/html": [
       "<div>\n",
       "<style scoped>\n",
       "    .dataframe tbody tr th:only-of-type {\n",
       "        vertical-align: middle;\n",
       "    }\n",
       "\n",
       "    .dataframe tbody tr th {\n",
       "        vertical-align: top;\n",
       "    }\n",
       "\n",
       "    .dataframe thead th {\n",
       "        text-align: right;\n",
       "    }\n",
       "</style>\n",
       "<table border=\"1\" class=\"dataframe\">\n",
       "  <thead>\n",
       "    <tr style=\"text-align: right;\">\n",
       "      <th></th>\n",
       "      <th>text</th>\n",
       "      <th>favorited</th>\n",
       "      <th>favoriteCount</th>\n",
       "      <th>replyToSN</th>\n",
       "      <th>created</th>\n",
       "      <th>truncated</th>\n",
       "      <th>replyToSID</th>\n",
       "      <th>id</th>\n",
       "      <th>replyToUID</th>\n",
       "      <th>statusSource</th>\n",
       "      <th>screenName</th>\n",
       "      <th>retweetCount</th>\n",
       "      <th>isRetweet</th>\n",
       "      <th>retweeted</th>\n",
       "      <th>longitude</th>\n",
       "      <th>latitude</th>\n",
       "    </tr>\n",
       "  </thead>\n",
       "  <tbody>\n",
       "    <tr>\n",
       "      <td>0</td>\n",
       "      <td>RT @chloewetzel2: Why is sean still on @Dancin...</td>\n",
       "      <td>False</td>\n",
       "      <td>0</td>\n",
       "      <td>NaN</td>\n",
       "      <td>2019-10-22T02:11:19Z</td>\n",
       "      <td>False</td>\n",
       "      <td>NaN</td>\n",
       "      <td>1186465022496661505</td>\n",
       "      <td>NaN</td>\n",
       "      <td>&lt;a href=\"http://twitter.com/download/iphone\" r...</td>\n",
       "      <td>haddmad</td>\n",
       "      <td>21</td>\n",
       "      <td>True</td>\n",
       "      <td>False</td>\n",
       "      <td>NaN</td>\n",
       "      <td>NaN</td>\n",
       "    </tr>\n",
       "    <tr>\n",
       "      <td>1</td>\n",
       "      <td>RT @BrettSVergara: Sean Spicer being told he w...</td>\n",
       "      <td>False</td>\n",
       "      <td>0</td>\n",
       "      <td>NaN</td>\n",
       "      <td>2019-10-22T02:11:18Z</td>\n",
       "      <td>False</td>\n",
       "      <td>NaN</td>\n",
       "      <td>1186465019753615360</td>\n",
       "      <td>NaN</td>\n",
       "      <td>&lt;a href=\"http://twitter.com/download/iphone\" r...</td>\n",
       "      <td>cmagda28</td>\n",
       "      <td>53</td>\n",
       "      <td>True</td>\n",
       "      <td>False</td>\n",
       "      <td>NaN</td>\n",
       "      <td>NaN</td>\n",
       "    </tr>\n",
       "    <tr>\n",
       "      <td>2</td>\n",
       "      <td>RT @BrettSVergara: Live footage of me hearing ...</td>\n",
       "      <td>False</td>\n",
       "      <td>0</td>\n",
       "      <td>NaN</td>\n",
       "      <td>2019-10-22T02:11:18Z</td>\n",
       "      <td>False</td>\n",
       "      <td>NaN</td>\n",
       "      <td>1186465017811439617</td>\n",
       "      <td>NaN</td>\n",
       "      <td>&lt;a href=\"http://twitter.com/download/iphone\" r...</td>\n",
       "      <td>NotKieth1</td>\n",
       "      <td>65</td>\n",
       "      <td>True</td>\n",
       "      <td>False</td>\n",
       "      <td>NaN</td>\n",
       "      <td>NaN</td>\n",
       "    </tr>\n",
       "    <tr>\n",
       "      <td>3</td>\n",
       "      <td>RT @PromotingAlly: Ally was in the bottom 2. O...</td>\n",
       "      <td>False</td>\n",
       "      <td>0</td>\n",
       "      <td>NaN</td>\n",
       "      <td>2019-10-22T02:11:16Z</td>\n",
       "      <td>False</td>\n",
       "      <td>NaN</td>\n",
       "      <td>1186465010266099713</td>\n",
       "      <td>NaN</td>\n",
       "      <td>&lt;a href=\"http://twitter.com/download/android\" ...</td>\n",
       "      <td>ghostinbrooke</td>\n",
       "      <td>2</td>\n",
       "      <td>True</td>\n",
       "      <td>False</td>\n",
       "      <td>NaN</td>\n",
       "      <td>NaN</td>\n",
       "    </tr>\n",
       "    <tr>\n",
       "      <td>4</td>\n",
       "      <td>RT @spoonmoonjune: The people vote for Spicer ...</td>\n",
       "      <td>False</td>\n",
       "      <td>0</td>\n",
       "      <td>NaN</td>\n",
       "      <td>2019-10-22T02:11:16Z</td>\n",
       "      <td>False</td>\n",
       "      <td>NaN</td>\n",
       "      <td>1186465009267806211</td>\n",
       "      <td>NaN</td>\n",
       "      <td>&lt;a href=\"https://mobile.twitter.com\" rel=\"nofo...</td>\n",
       "      <td>DiGarBlizz</td>\n",
       "      <td>1</td>\n",
       "      <td>True</td>\n",
       "      <td>False</td>\n",
       "      <td>NaN</td>\n",
       "      <td>NaN</td>\n",
       "    </tr>\n",
       "  </tbody>\n",
       "</table>\n",
       "</div>"
      ],
      "text/plain": [
       "                                                text  favorited  \\\n",
       "0  RT @chloewetzel2: Why is sean still on @Dancin...      False   \n",
       "1  RT @BrettSVergara: Sean Spicer being told he w...      False   \n",
       "2  RT @BrettSVergara: Live footage of me hearing ...      False   \n",
       "3  RT @PromotingAlly: Ally was in the bottom 2. O...      False   \n",
       "4  RT @spoonmoonjune: The people vote for Spicer ...      False   \n",
       "\n",
       "   favoriteCount replyToSN               created  truncated  replyToSID  \\\n",
       "0              0       NaN  2019-10-22T02:11:19Z      False         NaN   \n",
       "1              0       NaN  2019-10-22T02:11:18Z      False         NaN   \n",
       "2              0       NaN  2019-10-22T02:11:18Z      False         NaN   \n",
       "3              0       NaN  2019-10-22T02:11:16Z      False         NaN   \n",
       "4              0       NaN  2019-10-22T02:11:16Z      False         NaN   \n",
       "\n",
       "                    id  replyToUID  \\\n",
       "0  1186465022496661505         NaN   \n",
       "1  1186465019753615360         NaN   \n",
       "2  1186465017811439617         NaN   \n",
       "3  1186465010266099713         NaN   \n",
       "4  1186465009267806211         NaN   \n",
       "\n",
       "                                        statusSource     screenName  \\\n",
       "0  <a href=\"http://twitter.com/download/iphone\" r...        haddmad   \n",
       "1  <a href=\"http://twitter.com/download/iphone\" r...       cmagda28   \n",
       "2  <a href=\"http://twitter.com/download/iphone\" r...      NotKieth1   \n",
       "3  <a href=\"http://twitter.com/download/android\" ...  ghostinbrooke   \n",
       "4  <a href=\"https://mobile.twitter.com\" rel=\"nofo...     DiGarBlizz   \n",
       "\n",
       "   retweetCount  isRetweet  retweeted  longitude  latitude  \n",
       "0            21       True      False        NaN       NaN  \n",
       "1            53       True      False        NaN       NaN  \n",
       "2            65       True      False        NaN       NaN  \n",
       "3             2       True      False        NaN       NaN  \n",
       "4             1       True      False        NaN       NaN  "
      ]
     },
     "execution_count": 8,
     "metadata": {},
     "output_type": "execute_result"
    }
   ],
   "source": [
    "data.head()"
   ]
  },
  {
   "cell_type": "code",
   "execution_count": 9,
   "metadata": {},
   "outputs": [
    {
     "data": {
      "text/html": [
       "<div>\n",
       "<style scoped>\n",
       "    .dataframe tbody tr th:only-of-type {\n",
       "        vertical-align: middle;\n",
       "    }\n",
       "\n",
       "    .dataframe tbody tr th {\n",
       "        vertical-align: top;\n",
       "    }\n",
       "\n",
       "    .dataframe thead th {\n",
       "        text-align: right;\n",
       "    }\n",
       "</style>\n",
       "<table border=\"1\" class=\"dataframe\">\n",
       "  <thead>\n",
       "    <tr style=\"text-align: right;\">\n",
       "      <th></th>\n",
       "      <th>text</th>\n",
       "      <th>favorited</th>\n",
       "      <th>favoriteCount</th>\n",
       "      <th>replyToSN</th>\n",
       "      <th>created</th>\n",
       "      <th>truncated</th>\n",
       "      <th>replyToSID</th>\n",
       "      <th>id</th>\n",
       "      <th>replyToUID</th>\n",
       "      <th>statusSource</th>\n",
       "      <th>screenName</th>\n",
       "      <th>retweetCount</th>\n",
       "      <th>isRetweet</th>\n",
       "      <th>retweeted</th>\n",
       "      <th>longitude</th>\n",
       "      <th>latitude</th>\n",
       "    </tr>\n",
       "  </thead>\n",
       "  <tbody>\n",
       "    <tr>\n",
       "      <td>0</td>\n",
       "      <td>RT @chloewetzel2: Why is sean still on @Dancin...</td>\n",
       "      <td>False</td>\n",
       "      <td>0</td>\n",
       "      <td>NaN</td>\n",
       "      <td>2019-10-22T02:11:19Z</td>\n",
       "      <td>False</td>\n",
       "      <td>NaN</td>\n",
       "      <td>1186465022496661505</td>\n",
       "      <td>NaN</td>\n",
       "      <td>&lt;a href=\"http://twitter.com/download/iphone\" r...</td>\n",
       "      <td>haddmad</td>\n",
       "      <td>21</td>\n",
       "      <td>True</td>\n",
       "      <td>False</td>\n",
       "      <td>NaN</td>\n",
       "      <td>NaN</td>\n",
       "    </tr>\n",
       "    <tr>\n",
       "      <td>25</td>\n",
       "      <td>RT @_In_Zayn_: Why is Sean Spicer still there?...</td>\n",
       "      <td>False</td>\n",
       "      <td>0</td>\n",
       "      <td>NaN</td>\n",
       "      <td>2019-10-22T02:11:04Z</td>\n",
       "      <td>False</td>\n",
       "      <td>NaN</td>\n",
       "      <td>1186464958248378370</td>\n",
       "      <td>NaN</td>\n",
       "      <td>&lt;a href=\"http://twitter.com/download/iphone\" r...</td>\n",
       "      <td>haddmad</td>\n",
       "      <td>16</td>\n",
       "      <td>True</td>\n",
       "      <td>False</td>\n",
       "      <td>NaN</td>\n",
       "      <td>NaN</td>\n",
       "    </tr>\n",
       "    <tr>\n",
       "      <td>76</td>\n",
       "      <td>RT @BrettSVergara: Sean Spicer being told he w...</td>\n",
       "      <td>False</td>\n",
       "      <td>0</td>\n",
       "      <td>NaN</td>\n",
       "      <td>2019-10-22T02:10:31Z</td>\n",
       "      <td>False</td>\n",
       "      <td>NaN</td>\n",
       "      <td>1186464823372111872</td>\n",
       "      <td>NaN</td>\n",
       "      <td>&lt;a href=\"http://twitter.com/download/iphone\" r...</td>\n",
       "      <td>haddmad</td>\n",
       "      <td>53</td>\n",
       "      <td>True</td>\n",
       "      <td>False</td>\n",
       "      <td>NaN</td>\n",
       "      <td>NaN</td>\n",
       "    </tr>\n",
       "  </tbody>\n",
       "</table>\n",
       "</div>"
      ],
      "text/plain": [
       "                                                 text  favorited  \\\n",
       "0   RT @chloewetzel2: Why is sean still on @Dancin...      False   \n",
       "25  RT @_In_Zayn_: Why is Sean Spicer still there?...      False   \n",
       "76  RT @BrettSVergara: Sean Spicer being told he w...      False   \n",
       "\n",
       "    favoriteCount replyToSN               created  truncated  replyToSID  \\\n",
       "0               0       NaN  2019-10-22T02:11:19Z      False         NaN   \n",
       "25              0       NaN  2019-10-22T02:11:04Z      False         NaN   \n",
       "76              0       NaN  2019-10-22T02:10:31Z      False         NaN   \n",
       "\n",
       "                     id  replyToUID  \\\n",
       "0   1186465022496661505         NaN   \n",
       "25  1186464958248378370         NaN   \n",
       "76  1186464823372111872         NaN   \n",
       "\n",
       "                                         statusSource screenName  \\\n",
       "0   <a href=\"http://twitter.com/download/iphone\" r...    haddmad   \n",
       "25  <a href=\"http://twitter.com/download/iphone\" r...    haddmad   \n",
       "76  <a href=\"http://twitter.com/download/iphone\" r...    haddmad   \n",
       "\n",
       "    retweetCount  isRetweet  retweeted  longitude  latitude  \n",
       "0             21       True      False        NaN       NaN  \n",
       "25            16       True      False        NaN       NaN  \n",
       "76            53       True      False        NaN       NaN  "
      ]
     },
     "execution_count": 9,
     "metadata": {},
     "output_type": "execute_result"
    }
   ],
   "source": [
    "data[data['screenName']=='haddmad']"
   ]
  },
  {
   "cell_type": "code",
   "execution_count": 10,
   "metadata": {
    "colab": {},
    "colab_type": "code",
    "id": "ibAI-zfbZ125"
   },
   "outputs": [],
   "source": [
    "polarity = []\n",
    "subjectivity = []\n",
    "dataX = data.head(500)\n",
    "\n",
    "for tw in dataX['text']:\n",
    "  tw = TextBlob(tw)\n",
    "  ann = tw.sentiment\n",
    "  polarity.append(ann[0])\n",
    "  subjectivity.append(ann[1])\n",
    "  "
   ]
  },
  {
   "cell_type": "code",
   "execution_count": 11,
   "metadata": {
    "colab": {},
    "colab_type": "code",
    "id": "oonCj19far_O"
   },
   "outputs": [
    {
     "data": {
      "text/html": [
       "<div>\n",
       "<style scoped>\n",
       "    .dataframe tbody tr th:only-of-type {\n",
       "        vertical-align: middle;\n",
       "    }\n",
       "\n",
       "    .dataframe tbody tr th {\n",
       "        vertical-align: top;\n",
       "    }\n",
       "\n",
       "    .dataframe thead th {\n",
       "        text-align: right;\n",
       "    }\n",
       "</style>\n",
       "<table border=\"1\" class=\"dataframe\">\n",
       "  <thead>\n",
       "    <tr style=\"text-align: right;\">\n",
       "      <th></th>\n",
       "      <th>Tweet</th>\n",
       "      <th>Polarity</th>\n",
       "      <th>Subjectivity</th>\n",
       "    </tr>\n",
       "  </thead>\n",
       "  <tbody>\n",
       "    <tr>\n",
       "      <td>0</td>\n",
       "      <td>RT @chloewetzel2: Why is sean still on @Dancin...</td>\n",
       "      <td>0.000000</td>\n",
       "      <td>0.000000</td>\n",
       "    </tr>\n",
       "    <tr>\n",
       "      <td>1</td>\n",
       "      <td>RT @BrettSVergara: Sean Spicer being told he w...</td>\n",
       "      <td>0.533333</td>\n",
       "      <td>0.633333</td>\n",
       "    </tr>\n",
       "    <tr>\n",
       "      <td>2</td>\n",
       "      <td>RT @BrettSVergara: Live footage of me hearing ...</td>\n",
       "      <td>0.136364</td>\n",
       "      <td>0.500000</td>\n",
       "    </tr>\n",
       "    <tr>\n",
       "      <td>3</td>\n",
       "      <td>RT @PromotingAlly: Ally was in the bottom 2. O...</td>\n",
       "      <td>-0.100000</td>\n",
       "      <td>0.000000</td>\n",
       "    </tr>\n",
       "    <tr>\n",
       "      <td>4</td>\n",
       "      <td>RT @spoonmoonjune: The people vote for Spicer ...</td>\n",
       "      <td>0.000000</td>\n",
       "      <td>0.000000</td>\n",
       "    </tr>\n",
       "    <tr>\n",
       "      <td>...</td>\n",
       "      <td>...</td>\n",
       "      <td>...</td>\n",
       "      <td>...</td>\n",
       "    </tr>\n",
       "    <tr>\n",
       "      <td>495</td>\n",
       "      <td>RT @curtisadamski: WHO THE FUCK IS VOTING FOR ...</td>\n",
       "      <td>-0.400000</td>\n",
       "      <td>0.600000</td>\n",
       "    </tr>\n",
       "    <tr>\n",
       "      <td>496</td>\n",
       "      <td>RT @BrettSVergara: Live footage of me hearing ...</td>\n",
       "      <td>0.136364</td>\n",
       "      <td>0.500000</td>\n",
       "    </tr>\n",
       "    <tr>\n",
       "      <td>497</td>\n",
       "      <td>RT @seanspicer: I finished my dance on @Dancin...</td>\n",
       "      <td>0.550000</td>\n",
       "      <td>0.650000</td>\n",
       "    </tr>\n",
       "    <tr>\n",
       "      <td>498</td>\n",
       "      <td>RT @almostjingo: VOTING IS OPEN! Vote for @sea...</td>\n",
       "      <td>0.000000</td>\n",
       "      <td>0.500000</td>\n",
       "    </tr>\n",
       "    <tr>\n",
       "      <td>499</td>\n",
       "      <td>RT @Shelby1822: Wow. So proud of you @Lauren_A...</td>\n",
       "      <td>0.690000</td>\n",
       "      <td>1.000000</td>\n",
       "    </tr>\n",
       "  </tbody>\n",
       "</table>\n",
       "<p>500 rows × 3 columns</p>\n",
       "</div>"
      ],
      "text/plain": [
       "                                                 Tweet  Polarity  Subjectivity\n",
       "0    RT @chloewetzel2: Why is sean still on @Dancin...  0.000000      0.000000\n",
       "1    RT @BrettSVergara: Sean Spicer being told he w...  0.533333      0.633333\n",
       "2    RT @BrettSVergara: Live footage of me hearing ...  0.136364      0.500000\n",
       "3    RT @PromotingAlly: Ally was in the bottom 2. O... -0.100000      0.000000\n",
       "4    RT @spoonmoonjune: The people vote for Spicer ...  0.000000      0.000000\n",
       "..                                                 ...       ...           ...\n",
       "495  RT @curtisadamski: WHO THE FUCK IS VOTING FOR ... -0.400000      0.600000\n",
       "496  RT @BrettSVergara: Live footage of me hearing ...  0.136364      0.500000\n",
       "497  RT @seanspicer: I finished my dance on @Dancin...  0.550000      0.650000\n",
       "498  RT @almostjingo: VOTING IS OPEN! Vote for @sea...  0.000000      0.500000\n",
       "499  RT @Shelby1822: Wow. So proud of you @Lauren_A...  0.690000      1.000000\n",
       "\n",
       "[500 rows x 3 columns]"
      ]
     },
     "execution_count": 11,
     "metadata": {},
     "output_type": "execute_result"
    }
   ],
   "source": [
    "SentAnlycs = pd.DataFrame({'Tweet':dataX['text'],'Polarity':polarity,'Subjectivity':subjectivity})\n",
    "SentAnlycs"
   ]
  },
  {
   "cell_type": "markdown",
   "metadata": {
    "colab_type": "text",
    "id": "H8yue_V3cCQ2"
   },
   "source": [
    "## Funcion que crea el corpus de un usuario determinado"
   ]
  },
  {
   "cell_type": "code",
   "execution_count": 4,
   "metadata": {
    "colab": {},
    "colab_type": "code",
    "id": "DQMJXQ-RcDFQ"
   },
   "outputs": [],
   "source": [
    "def corpus_creator(user,data):\n",
    "    df= data[data['screenName']==user]\n",
    "    df['text_length'] = df.text.str.len()\n",
    "    df[['text']] = df.text.str.lower()\n",
    "    out = df[['text','screenName','created','text_length']]\n",
    "    return out"
   ]
  },
  {
   "cell_type": "code",
   "execution_count": 5,
   "metadata": {},
   "outputs": [
    {
     "ename": "NameError",
     "evalue": "name 'data' is not defined",
     "output_type": "error",
     "traceback": [
      "\u001b[1;31m---------------------------------------------------------------------------\u001b[0m",
      "\u001b[1;31mNameError\u001b[0m                                 Traceback (most recent call last)",
      "\u001b[1;32m<ipython-input-5-b11acf0730dc>\u001b[0m in \u001b[0;36m<module>\u001b[1;34m\u001b[0m\n\u001b[1;32m----> 1\u001b[1;33m \u001b[0mcorpus\u001b[0m \u001b[1;33m=\u001b[0m \u001b[0mcorpus_creator\u001b[0m\u001b[1;33m(\u001b[0m\u001b[1;34m'haddmad'\u001b[0m\u001b[1;33m,\u001b[0m\u001b[0mdata\u001b[0m\u001b[1;33m)\u001b[0m\u001b[1;33m\u001b[0m\u001b[1;33m\u001b[0m\u001b[0m\n\u001b[0m",
      "\u001b[1;31mNameError\u001b[0m: name 'data' is not defined"
     ]
    }
   ],
   "source": [
    "corpus = corpus_creator('haddmad',data)"
   ]
  },
  {
   "cell_type": "code",
   "execution_count": 6,
   "metadata": {
    "scrolled": true
   },
   "outputs": [
    {
     "ename": "NameError",
     "evalue": "name 'corpus' is not defined",
     "output_type": "error",
     "traceback": [
      "\u001b[1;31m---------------------------------------------------------------------------\u001b[0m",
      "\u001b[1;31mNameError\u001b[0m                                 Traceback (most recent call last)",
      "\u001b[1;32m<ipython-input-6-a20479f57f58>\u001b[0m in \u001b[0;36m<module>\u001b[1;34m\u001b[0m\n\u001b[1;32m----> 1\u001b[1;33m \u001b[0mcorpus\u001b[0m\u001b[1;33m\u001b[0m\u001b[1;33m\u001b[0m\u001b[0m\n\u001b[0m",
      "\u001b[1;31mNameError\u001b[0m: name 'corpus' is not defined"
     ]
    }
   ],
   "source": [
    "corpus"
   ]
  },
  {
   "cell_type": "markdown",
   "metadata": {
    "colab_type": "text",
    "id": "XgG0mkWpcVnh"
   },
   "source": [
    "## función normalizadora de texto"
   ]
  },
  {
   "cell_type": "code",
   "execution_count": 23,
   "metadata": {
    "colab": {},
    "colab_type": "code",
    "id": "XEKV_S6CcRrh"
   },
   "outputs": [],
   "source": [
    "def word_norm(text):\n",
    "  text = text.str.lower()\n",
    "  text = text.replace('.', '')\n",
    "  text = text.replace(',', '')\n",
    "  text = text.replace('!', '')\n",
    "  text = text.replace(to_replace =r'!', value='',regex=True)\n",
    "  text = text.replace('á', 'a')\n",
    "  text = text.replace('é', 'e')\n",
    "  text = text.replace('í', 'i')\n",
    "  text = text.replace('ó', 'o')\n",
    "  text = text.replace('ú', 'u')\n",
    "  text = text.replace('?', '')\n",
    "  text = text.replace('!', '')\n",
    "  text = text.replace(to_replace =r'-', value='',regex=True)\n",
    "  text = text.replace(')', '')\n",
    "  text = text.replace('(', '')\n",
    "  text = text.replace(':', '')\n",
    "  text = text.replace('/', '')\n",
    "  return(text)"
   ]
  },
  {
   "cell_type": "code",
   "execution_count": 24,
   "metadata": {
    "colab": {},
    "colab_type": "code",
    "id": "4-nVLyT0cbux"
   },
   "outputs": [],
   "source": [
    "corpus[['text']] = word_norm(corpus.text)\n"
   ]
  },
  {
   "cell_type": "code",
   "execution_count": 25,
   "metadata": {},
   "outputs": [
    {
     "data": {
      "text/html": [
       "<div>\n",
       "<style scoped>\n",
       "    .dataframe tbody tr th:only-of-type {\n",
       "        vertical-align: middle;\n",
       "    }\n",
       "\n",
       "    .dataframe tbody tr th {\n",
       "        vertical-align: top;\n",
       "    }\n",
       "\n",
       "    .dataframe thead th {\n",
       "        text-align: right;\n",
       "    }\n",
       "</style>\n",
       "<table border=\"1\" class=\"dataframe\">\n",
       "  <thead>\n",
       "    <tr style=\"text-align: right;\">\n",
       "      <th></th>\n",
       "      <th>text</th>\n",
       "      <th>screenName</th>\n",
       "      <th>created</th>\n",
       "      <th>text_length</th>\n",
       "    </tr>\n",
       "  </thead>\n",
       "  <tbody>\n",
       "    <tr>\n",
       "      <th>0</th>\n",
       "      <td>rt @chloewetzel2: why is sean still on @dancin...</td>\n",
       "      <td>haddmad</td>\n",
       "      <td>2019-10-22T02:11:19Z</td>\n",
       "      <td>140</td>\n",
       "    </tr>\n",
       "    <tr>\n",
       "      <th>25</th>\n",
       "      <td>rt @_in_zayn_: why is sean spicer still there?...</td>\n",
       "      <td>haddmad</td>\n",
       "      <td>2019-10-22T02:11:04Z</td>\n",
       "      <td>78</td>\n",
       "    </tr>\n",
       "    <tr>\n",
       "      <th>76</th>\n",
       "      <td>rt @brettsvergara: sean spicer being told he w...</td>\n",
       "      <td>haddmad</td>\n",
       "      <td>2019-10-22T02:10:31Z</td>\n",
       "      <td>139</td>\n",
       "    </tr>\n",
       "  </tbody>\n",
       "</table>\n",
       "</div>"
      ],
      "text/plain": [
       "                                                 text screenName  \\\n",
       "0   rt @chloewetzel2: why is sean still on @dancin...    haddmad   \n",
       "25  rt @_in_zayn_: why is sean spicer still there?...    haddmad   \n",
       "76  rt @brettsvergara: sean spicer being told he w...    haddmad   \n",
       "\n",
       "                 created  text_length  \n",
       "0   2019-10-22T02:11:19Z          140  \n",
       "25  2019-10-22T02:11:04Z           78  \n",
       "76  2019-10-22T02:10:31Z          139  "
      ]
     },
     "execution_count": 25,
     "metadata": {},
     "output_type": "execute_result"
    }
   ],
   "source": [
    "corpus"
   ]
  },
  {
   "cell_type": "markdown",
   "metadata": {
    "colab_type": "text",
    "id": "K21OIKa2cxPv"
   },
   "source": [
    "## Funcion que calcula la polaridad y subjetividad de un tweet"
   ]
  },
  {
   "cell_type": "code",
   "execution_count": 2,
   "metadata": {
    "colab": {},
    "colab_type": "code",
    "id": "nHQXUCWlclCP"
   },
   "outputs": [],
   "source": [
    "def sentiment_analysis(text):\n",
    "    polarity = []\n",
    "    subjectivity = []\n",
    "    for tw in text:\n",
    "        tw = TextBlob(tw)\n",
    "        ann = tw.sentiment\n",
    "        polarity.append(ann[0])\n",
    "        subjectivity.append(ann[1])\n",
    "\n",
    "    return polarity,subjectivity\n",
    "\n"
   ]
  },
  {
   "cell_type": "code",
   "execution_count": 3,
   "metadata": {
    "colab": {},
    "colab_type": "code",
    "id": "3oDRcxqjdVfL"
   },
   "outputs": [
    {
     "ename": "NameError",
     "evalue": "name 'corpus' is not defined",
     "output_type": "error",
     "traceback": [
      "\u001b[1;31m---------------------------------------------------------------------------\u001b[0m",
      "\u001b[1;31mNameError\u001b[0m                                 Traceback (most recent call last)",
      "\u001b[1;32m<ipython-input-3-6456f57d1147>\u001b[0m in \u001b[0;36m<module>\u001b[1;34m\u001b[0m\n\u001b[1;32m----> 1\u001b[1;33m \u001b[0mcorpus\u001b[0m\u001b[1;33m[\u001b[0m\u001b[1;34m'Polarity'\u001b[0m\u001b[1;33m]\u001b[0m\u001b[1;33m,\u001b[0m \u001b[0mcorpus\u001b[0m\u001b[1;33m[\u001b[0m\u001b[1;34m'Subjectivity'\u001b[0m\u001b[1;33m]\u001b[0m\u001b[1;33m=\u001b[0m \u001b[0msentiment_analysis\u001b[0m\u001b[1;33m(\u001b[0m\u001b[0mcorpus\u001b[0m\u001b[1;33m.\u001b[0m\u001b[0mtext\u001b[0m\u001b[1;33m)\u001b[0m\u001b[1;33m\u001b[0m\u001b[1;33m\u001b[0m\u001b[0m\n\u001b[0m",
      "\u001b[1;31mNameError\u001b[0m: name 'corpus' is not defined"
     ]
    }
   ],
   "source": [
    "corpus['Polarity'], corpus['Subjectivity']= sentiment_analysis(corpus.text)\n"
   ]
  },
  {
   "cell_type": "code",
   "execution_count": 50,
   "metadata": {
    "scrolled": true
   },
   "outputs": [
    {
     "data": {
      "text/plain": [
       "76    rt @brettsvergara: sean spicer being told he was safe before hannah found out is honestly the most upset i’ve ever been at a tv show #dwts…\n",
       "Name: text, dtype: object"
      ]
     },
     "execution_count": 50,
     "metadata": {},
     "output_type": "execute_result"
    }
   ],
   "source": [
    "pd.set_option('display.max_colwidth', -1)\n",
    "corpus.iloc[2:3,0]"
   ]
  },
  {
   "cell_type": "markdown",
   "metadata": {},
   "source": [
    "# Lemmatization"
   ]
  },
  {
   "cell_type": "code",
   "execution_count": 90,
   "metadata": {},
   "outputs": [
    {
     "name": "stdout",
     "output_type": "stream",
     "text": [
      "['Among', 'their', 'university', 'electives', ',', 'the', 'UFM', 'students', 'are', 'taking', 'a', 'data', 'wrangling', 'course', '.']\n"
     ]
    }
   ],
   "source": [
    "#Sentence to lemmatize\n",
    "sentence = \"Among their university electives, the UFM students are taking a data wrangling course.\"\n",
    "\n",
    "word_list = nltk.word_tokenize(sentence)\n",
    "print(word_list)\n"
   ]
  },
  {
   "cell_type": "code",
   "execution_count": 91,
   "metadata": {},
   "outputs": [
    {
     "name": "stdout",
     "output_type": "stream",
     "text": [
      "Among their university elective , the UFM student are taking a data wrangling course .\n"
     ]
    }
   ],
   "source": [
    "# Lemmatize list of words and join\n",
    "lemmatized_output = ' '.join([lemmatizer.lemmatize(w) for w in word_list])\n",
    "print(lemmatized_output)\n"
   ]
  },
  {
   "cell_type": "markdown",
   "metadata": {},
   "source": [
    "# Laboratorio\n",
    "\n",
    "Utilizando la librería de twitteR de R,el API de developer de twitter, y las librerías de análisis de sentimiento de Python:\n",
    "\n",
    "    1. #Generar una consulta de algún #hashtag, tema o usuario que sea de su interés.\n",
    "        a. #Transformar la respuesta del API de twitter a un dataframe e importarlo a un csv. \n",
    "        b. #Presentar el código de consulta al API de twitter en un Rmarkdown. Nota: no desplegar los Tokens de su cuenta.\n",
    "    2. #Importar el dataframe generado en R a Python.\n",
    "    3. #Utilizando expresiones regulares:\n",
    "        a. #Crear una función normalizadora de texto que limpie los caracteres que pueden generar ruido en el string del tweet.\n",
    "        b. #Generar una nueva columna llamada \"Handler\" que muestre el handle del usuario. ej: @Tepi\n",
    "        c. #Generar una nueva columna llamada \"Source\" que muestre de donde se generó el tweet. ej: Iphone, Android, etc.\n",
    "    4. #Generar un corpus del dataset original que contenga: Handler,screenName,retweetCount,Source.\n",
    "    5. #Generar una función que lematize cada tweet y guardar el resultado en una nueva columna llamada \"lem_text\".\n",
    "    6. #Generar una función calcule la polaridad y subjetividad de las columnas \"text\" y \"lem_text\".\n",
    "    7. Utilizando pandas, calcular la media de la polaridad y subjetividad de todos las columnas del inciso 6 del corpus. Comparar si la lematización afecta en el resultado.\n",
    "    8. #¿Qué puede decir del sentimiento del corpus con base a la agregación del inciso 7?\n",
    "    9. Responder:\n",
    "        a. ¿De dónde se originan la mayoría de tweets de su corpus?\n",
    "        b. ¿Cuál es el tweet más popular de su corpus?\n",
    "        \n",
    "    Extra: Generar un wordcloud utilizando Python en el cual se despliegue las palabras más frecuentes de la columna \"lem_text\""
   ]
  },
  {
   "cell_type": "code",
   "execution_count": null,
   "metadata": {},
   "outputs": [],
   "source": []
  }
 ],
 "metadata": {
  "colab": {
   "collapsed_sections": [],
   "name": "sentiment_analysis.ipynb",
   "provenance": []
  },
  "kernelspec": {
   "display_name": "Python 3",
   "language": "python",
   "name": "python3"
  },
  "language_info": {
   "codemirror_mode": {
    "name": "ipython",
    "version": 3
   },
   "file_extension": ".py",
   "mimetype": "text/x-python",
   "name": "python",
   "nbconvert_exporter": "python",
   "pygments_lexer": "ipython3",
   "version": "3.7.4"
  }
 },
 "nbformat": 4,
 "nbformat_minor": 1
}
